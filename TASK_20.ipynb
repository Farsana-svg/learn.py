{
  "nbformat": 4,
  "nbformat_minor": 0,
  "metadata": {
    "colab": {
      "name": "TASK 20.ipynb",
      "provenance": [],
      "include_colab_link": true
    },
    "kernelspec": {
      "name": "python3",
      "display_name": "Python 3"
    },
    "language_info": {
      "name": "python"
    }
  },
  "cells": [
    {
      "cell_type": "markdown",
      "metadata": {
        "id": "view-in-github",
        "colab_type": "text"
      },
      "source": [
        "<a href=\"https://colab.research.google.com/github/Farsana-svg/learn.py/blob/main/TASK_20.ipynb\" target=\"_parent\"><img src=\"https://colab.research.google.com/assets/colab-badge.svg\" alt=\"Open In Colab\"/></a>"
      ]
    },
    {
      "cell_type": "markdown",
      "metadata": {
        "id": "8LIfdcjDWmC3"
      },
      "source": [
        "1. In the data given below,\n",
        "  - find the boolean mask where value is nan\n",
        "  - remove the row with missing data.\n"
      ]
    },
    {
      "cell_type": "markdown",
      "metadata": {
        "id": "VPCGISRTbYPz"
      },
      "source": [
        ""
      ]
    },
    {
      "cell_type": "code",
      "metadata": {
        "colab": {
          "base_uri": "https://localhost:8080/"
        },
        "id": "VsZQYRqXXHpG",
        "outputId": "67be5130-64d7-4ad1-9468-93f113cb7f40"
      },
      "source": [
        "import pandas as pd\n",
        "import numpy as np\n",
        "dates = pd.date_range('20210101',periods=6)\n",
        "df = pd.DataFrame(np.random.randn(6,4), index=dates,columns=list('ABCD'))\n",
        "s1 = pd.Series([1,2,3,4,5,6], index=pd.date_range('20130102', periods=6))\n",
        "df[\"F\"]=s1\n",
        "df1=df.reindex(index=dates[0:4], columns=list(df.columns) + ['E'])\n",
        "df1.loc[dates[0]:dates[1],'E'] = 1\n",
        "df1\n",
        "#please provide your answer below this line\n",
        "print(df1)\n",
        " \n",
        "df2 = pd.isna(df1)\n",
        "print(df2)\n",
        " \n",
        "df3 = df1.dropna(how=\"any\")\n",
        "print(df3)"
      ],
      "execution_count": 11,
      "outputs": [
        {
          "output_type": "stream",
          "name": "stdout",
          "text": [
            "                   A         B         C         D   F    E\n",
            "2021-01-01  1.781894 -0.596514 -0.827825  0.512041 NaN  1.0\n",
            "2021-01-02  0.255997  1.153423  0.706538 -1.654741 NaN  1.0\n",
            "2021-01-03 -0.215343  0.498045 -0.258498 -0.461197 NaN  NaN\n",
            "2021-01-04  0.140525 -0.186440 -0.204970  0.217916 NaN  NaN\n",
            "                A      B      C      D     F      E\n",
            "2021-01-01  False  False  False  False  True  False\n",
            "2021-01-02  False  False  False  False  True  False\n",
            "2021-01-03  False  False  False  False  True   True\n",
            "2021-01-04  False  False  False  False  True   True\n",
            "Empty DataFrame\n",
            "Columns: [A, B, C, D, F, E]\n",
            "Index: []\n"
          ]
        }
      ]
    },
    {
      "cell_type": "markdown",
      "metadata": {
        "id": "z1sv0aluZhcd"
      },
      "source": [
        "2. In the data given below,fill the missing data with 20."
      ]
    },
    {
      "cell_type": "code",
      "metadata": {
        "colab": {
          "base_uri": "https://localhost:8080/"
        },
        "id": "x3ZHFCeyZ0j2",
        "outputId": "fdbd0940-295b-438e-c2f5-096d589c6c2f"
      },
      "source": [
        "import pandas as pd\n",
        "import numpy as np\n",
        "dates = pd.date_range('20210101',periods=6)\n",
        "df = pd.DataFrame(np.random.randn(6,4), index=dates,columns=list('ABCD'))\n",
        "s1 = pd.Series([1,2,3,4,5,6], index=pd.date_range('20130102', periods=6))\n",
        "df[\"F\"]=s1\n",
        "df1=df.reindex(index=dates[0:4], columns=list(df.columns) + ['E'])\n",
        "df1.loc[dates[0]:dates[1],'E'] = 1\n",
        "df1\n",
        "#please provide your answer below this line\n",
        "print(df1)\n",
        " \n",
        "df2 = df1.fillna(value=20)\n",
        "print(df2)"
      ],
      "execution_count": 10,
      "outputs": [
        {
          "output_type": "stream",
          "name": "stdout",
          "text": [
            "                   A         B         C         D   F    E\n",
            "2021-01-01 -2.233935 -1.601846 -0.049513 -0.010449 NaN  1.0\n",
            "2021-01-02 -0.243462 -0.471168 -0.281377 -0.055064 NaN  1.0\n",
            "2021-01-03 -0.497361  0.744177 -0.799151  0.087041 NaN  NaN\n",
            "2021-01-04  1.007654 -0.330154 -0.100748  0.044761 NaN  NaN\n",
            "                   A         B         C         D     F     E\n",
            "2021-01-01 -2.233935 -1.601846 -0.049513 -0.010449  20.0   1.0\n",
            "2021-01-02 -0.243462 -0.471168 -0.281377 -0.055064  20.0   1.0\n",
            "2021-01-03 -0.497361  0.744177 -0.799151  0.087041  20.0  20.0\n",
            "2021-01-04  1.007654 -0.330154 -0.100748  0.044761  20.0  20.0\n"
          ]
        }
      ]
    },
    {
      "cell_type": "markdown",
      "metadata": {
        "id": "vMzwvpxcZ3G8"
      },
      "source": [
        "3. From the data given below,\n",
        "  - break the data in to pieces from 0 t0 2 ,3 t0 7\n",
        "  - concatenate the pieces.\n",
        "  - concatenate the pieces along axis 1\n",
        "  - label each as 'a' and 'b' respectively and perform concatenation."
      ]
    },
    {
      "cell_type": "code",
      "metadata": {
        "colab": {
          "base_uri": "https://localhost:8080/"
        },
        "id": "LxGwKPTVbbXV",
        "outputId": "db9473b2-69fd-400a-b24f-c9a7ef3d9190"
      },
      "source": [
        "import pandas as pd\n",
        "import numpy as np\n",
        "df = pd.DataFrame(np.random.randn(10, 4))\n",
        "df\n",
        "#please provide your answer below this line\n",
        "print(df)\n",
        "pieces = [df[0:2],df[3:7]]\n",
        " \n",
        "df1 = df[0:2]\n",
        "df2 = df[3:7]\n",
        "print(df1)\n",
        "print(df2)\n",
        " \n",
        " \n",
        "df3 = pd.concat([df1,df2])\n",
        "print(df3)\n",
        " \n",
        "df4 = pd.concat([df1,df2], axis=1)\n",
        "print(df4)\n",
        " \n",
        "df5 = pd.concat(pieces,keys=[\"a\", \"b\"])\n",
        "print(df5)"
      ],
      "execution_count": 16,
      "outputs": [
        {
          "output_type": "stream",
          "name": "stdout",
          "text": [
            "          0         1         2         3\n",
            "0 -0.288750 -0.542120 -0.697471  1.027423\n",
            "1 -2.325457  0.667061 -0.068590  0.964530\n",
            "2  0.279191 -0.373347 -1.635510  2.280961\n",
            "3  0.953417  0.648467  0.775178  0.455727\n",
            "4  0.205581 -0.054060  1.217262 -0.311431\n",
            "5  0.714058 -0.413500  0.002383  0.659865\n",
            "6 -1.503377  0.291048 -0.955078 -0.642511\n",
            "7 -1.007957 -1.225021  0.024684  0.375714\n",
            "8 -0.408205  0.907064  2.315537  0.341476\n",
            "9 -0.088152 -0.205315  0.684095 -1.199482\n",
            "          0         1         2         3\n",
            "0 -0.288750 -0.542120 -0.697471  1.027423\n",
            "1 -2.325457  0.667061 -0.068590  0.964530\n",
            "          0         1         2         3\n",
            "3  0.953417  0.648467  0.775178  0.455727\n",
            "4  0.205581 -0.054060  1.217262 -0.311431\n",
            "5  0.714058 -0.413500  0.002383  0.659865\n",
            "6 -1.503377  0.291048 -0.955078 -0.642511\n",
            "          0         1         2         3\n",
            "0 -0.288750 -0.542120 -0.697471  1.027423\n",
            "1 -2.325457  0.667061 -0.068590  0.964530\n",
            "3  0.953417  0.648467  0.775178  0.455727\n",
            "4  0.205581 -0.054060  1.217262 -0.311431\n",
            "5  0.714058 -0.413500  0.002383  0.659865\n",
            "6 -1.503377  0.291048 -0.955078 -0.642511\n",
            "          0         1         2  ...         1         2         3\n",
            "0 -0.288750 -0.542120 -0.697471  ...       NaN       NaN       NaN\n",
            "1 -2.325457  0.667061 -0.068590  ...       NaN       NaN       NaN\n",
            "3       NaN       NaN       NaN  ...  0.648467  0.775178  0.455727\n",
            "4       NaN       NaN       NaN  ... -0.054060  1.217262 -0.311431\n",
            "5       NaN       NaN       NaN  ... -0.413500  0.002383  0.659865\n",
            "6       NaN       NaN       NaN  ...  0.291048 -0.955078 -0.642511\n",
            "\n",
            "[6 rows x 8 columns]\n",
            "            0         1         2         3\n",
            "a 0 -0.288750 -0.542120 -0.697471  1.027423\n",
            "  1 -2.325457  0.667061 -0.068590  0.964530\n",
            "b 3  0.953417  0.648467  0.775178  0.455727\n",
            "  4  0.205581 -0.054060  1.217262 -0.311431\n",
            "  5  0.714058 -0.413500  0.002383  0.659865\n",
            "  6 -1.503377  0.291048 -0.955078 -0.642511\n"
          ]
        }
      ]
    },
    {
      "cell_type": "code",
      "metadata": {
        "id": "h290MAgudPQI"
      },
      "source": [
        ""
      ],
      "execution_count": null,
      "outputs": []
    }
  ]
}