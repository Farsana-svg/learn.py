{
  "nbformat": 4,
  "nbformat_minor": 0,
  "metadata": {
    "colab": {
      "name": "TASK 3.ipynb",
      "provenance": [],
      "include_colab_link": true
    },
    "kernelspec": {
      "name": "python3",
      "display_name": "Python 3"
    },
    "language_info": {
      "name": "python"
    }
  },
  "cells": [
    {
      "cell_type": "markdown",
      "metadata": {
        "id": "view-in-github",
        "colab_type": "text"
      },
      "source": [
        "<a href=\"https://colab.research.google.com/github/Farsana-svg/learn.py/blob/main/TASK_3.ipynb\" target=\"_parent\"><img src=\"https://colab.research.google.com/assets/colab-badge.svg\" alt=\"Open In Colab\"/></a>"
      ]
    },
    {
      "cell_type": "markdown",
      "metadata": {
        "id": "z20IIB0eUQMN"
      },
      "source": [
        "1 - Write a program which takes a number as input from the user and check whether the number is odd or even.If odd print the number is odd if not print it is even."
      ]
    },
    {
      "cell_type": "code",
      "metadata": {
        "id": "dVgGJ-wTVRit",
        "colab": {
          "base_uri": "https://localhost:8080/"
        },
        "outputId": "90ea4e45-597d-491e-d7c6-a37e60fbfe3d"
      },
      "source": [
        "#please enter your answer below this line\n",
        "num=int(input(\"Enter a number\"))\n",
        "if(num % 2) == 1:                    \n",
        "    print(\" The number is Odd\")\n",
        "else:\n",
        "    print(\"The number is Even\")"
      ],
      "execution_count": 31,
      "outputs": [
        {
          "output_type": "stream",
          "text": [
            "Enter a number21\n",
            " The number is Odd\n"
          ],
          "name": "stdout"
        }
      ]
    },
    {
      "cell_type": "markdown",
      "metadata": {
        "id": "7778XD8PVblj"
      },
      "source": [
        "2 -Write a program to find the largest among three numbers and print the largest number."
      ]
    },
    {
      "cell_type": "code",
      "metadata": {
        "id": "m0tUOkOFWR-d",
        "colab": {
          "base_uri": "https://localhost:8080/"
        },
        "outputId": "a904c585-7781-4f56-bd98-3cfb641ff445"
      },
      "source": [
        "#please enter your answer below this line\n",
        "num1 = 3\n",
        "num2 = 11\n",
        "num3 = 23\n",
        "num1 = int(input(\"Enter first number:\"))\n",
        "num2 = int(input(\"Enter second number:\"))\n",
        "num3 = int(input(\"Enter third number:\"))\n",
        "if(num1 >= num2) and (num1 >= num3):\n",
        "    largest = num1\n",
        "elif(num2 >= num1) and (num2 >= num3):\n",
        "    largest = num2\n",
        "else:\n",
        "    largest = num3\n",
        "print(\"The lagest number among\",num1,num2,\",\",\"and\",num3,\"is\",largest)"
      ],
      "execution_count": 1,
      "outputs": [
        {
          "output_type": "stream",
          "text": [
            "Enter first number:3\n",
            "Enter second number:11\n",
            "Enter third number:23\n",
            "The lagest number among 3 11 , and 23 is 23\n"
          ],
          "name": "stdout"
        }
      ]
    },
    {
      "cell_type": "markdown",
      "metadata": {
        "id": "Jg2Ns4OQWaJy"
      },
      "source": [
        "3 -Write a function to prompt for a score between 0.0 and 1.0.\n",
        "\n",
        "    If the score is out of range, print an error.\n",
        "    If the score is between 0.0 and 1.0, print a grade using the following table:\n",
        "    Score Grade\n",
        "             Score\tGrade\n",
        "            >= 0.9\tA\n",
        "            >= 0.8\tB\n",
        "            >= 0.7\tC\n",
        "            >= 0.6\tD\n",
        "             < 0.6\tF\n",
        "If the user enters a value out of range, print a suitable error message and exit. For the test, enter a score of 0.85."
      ]
    },
    {
      "cell_type": "code",
      "metadata": {
        "id": "6DLbGe6XXZPx",
        "colab": {
          "base_uri": "https://localhost:8080/"
        },
        "outputId": "d6a33f18-f911-4e55-b2f3-1846113d3f54"
      },
      "source": [
        "#please enter your answer below this line\n",
        "score=input(\"Enter score:\")\n",
        "s = float(score)\n",
        "x = \"Error\"\n",
        "if s >= 0.9:\n",
        "     x = 'A'\n",
        "elif s >= 0.8:\n",
        "     x = 'B'\n",
        "elif s >= 0.7:\n",
        "     x = 'C'\n",
        "elif s >= 0.6:\n",
        "     x = 'D'\n",
        "elif s < 0.6:\n",
        "     x = 'F'\n",
        "else:\n",
        "     x = \"Out of range\"\n",
        "print(x)"
      ],
      "execution_count": 6,
      "outputs": [
        {
          "output_type": "stream",
          "text": [
            "Enter score:0.85\n",
            "B\n"
          ],
          "name": "stdout"
        }
      ]
    },
    {
      "cell_type": "markdown",
      "metadata": {
        "id": "-o0scDq7WkVT"
      },
      "source": [
        ""
      ]
    }
  ]
}