{
  "nbformat": 4,
  "nbformat_minor": 0,
  "metadata": {
    "colab": {
      "name": "TASK 21.ipynb",
      "provenance": [],
      "include_colab_link": true
    },
    "kernelspec": {
      "name": "python3",
      "display_name": "Python 3"
    },
    "language_info": {
      "name": "python"
    }
  },
  "cells": [
    {
      "cell_type": "markdown",
      "metadata": {
        "id": "view-in-github",
        "colab_type": "text"
      },
      "source": [
        "<a href=\"https://colab.research.google.com/github/Farsana-svg/learn.py/blob/main/TASK_21.ipynb\" target=\"_parent\"><img src=\"https://colab.research.google.com/assets/colab-badge.svg\" alt=\"Open In Colab\"/></a>"
      ]
    },
    {
      "cell_type": "markdown",
      "metadata": {
        "id": "wK9sv7fHTnyo"
      },
      "source": [
        "1.  Using the dataset given below,\n",
        "  - Group the given dataset by A and find the sum of the groups.\n",
        "  - Find the 3 least elements from the column D\n",
        "  - Find the 3 largest elements from the Column D which belongs to the group\n",
        "  'bar'."
      ]
    },
    {
      "cell_type": "code",
      "metadata": {
        "id": "C_Kq4i_rVNyB",
        "outputId": "7e0481df-169b-4085-8558-ba9b74a4cec7",
        "colab": {
          "base_uri": "https://localhost:8080/"
        }
      },
      "source": [
        "import pandas as pd\n",
        "import numpy as np\n",
        "df = pd.DataFrame({'A' : ['foo', 'bar', 'foo', 'bar',\n",
        "                          'foo', 'bar', 'foo', 'foo'],\n",
        "                   'B' : ['one', 'one', 'two', 'three',\n",
        "                          'two', 'two', 'one', 'three'],\n",
        "                   'C' : np.random.randn(8),\n",
        "                   'D' : np.random.randn(8)})\n",
        "df\n",
        "#please type your code below this line.\n",
        "print(df)\n",
        " \n",
        "df1 = df.groupby(\"A\").sum()\n",
        "print(df1)\n",
        " \n",
        "df2 = df.sort_values(\"D\")\n",
        "df3 = df2.iloc[:3]\n",
        "print(df3)\n",
        " \n",
        "df4 = df.sort_values(by=\"D\", ascending=False)\n",
        "df5 = df4[df.A==\"bar\"].head()\n",
        "print(df5)"
      ],
      "execution_count": 1,
      "outputs": [
        {
          "output_type": "stream",
          "name": "stdout",
          "text": [
            "     A      B         C         D\n",
            "0  foo    one -0.192997  1.390628\n",
            "1  bar    one  0.469866 -0.308722\n",
            "2  foo    two -1.071466 -1.284697\n",
            "3  bar  three -0.669104  1.512983\n",
            "4  foo    two -0.887766  0.390695\n",
            "5  bar    two  0.538237  0.179360\n",
            "6  foo    one -0.126700  0.085042\n",
            "7  foo  three  1.576641  1.538142\n",
            "            C         D\n",
            "A                      \n",
            "bar  0.338999  1.383621\n",
            "foo -0.702288  2.119809\n",
            "     A    B         C         D\n",
            "2  foo  two -1.071466 -1.284697\n",
            "1  bar  one  0.469866 -0.308722\n",
            "6  foo  one -0.126700  0.085042\n",
            "     A      B         C         D\n",
            "3  bar  three -0.669104  1.512983\n",
            "5  bar    two  0.538237  0.179360\n",
            "1  bar    one  0.469866 -0.308722\n"
          ]
        },
        {
          "output_type": "stream",
          "name": "stderr",
          "text": [
            "/usr/local/lib/python3.7/dist-packages/ipykernel_launcher.py:21: UserWarning: Boolean Series key will be reindexed to match DataFrame index.\n"
          ]
        }
      ]
    },
    {
      "cell_type": "markdown",
      "metadata": {
        "id": "68XLHGsrdHXb"
      },
      "source": [
        "2. Using the dataset given below,\n",
        "  - convert the dataset into a csv file.\n",
        "  - read the csv file just saved\n",
        "  - covert the dataset into a excel file.\n",
        "  - read the excel file just saved."
      ]
    },
    {
      "cell_type": "code",
      "metadata": {
        "id": "J4BOx3UZdVLV",
        "outputId": "543e6c31-d7cb-4c0c-e64b-e99ce6da68e0",
        "colab": {
          "base_uri": "https://localhost:8080/"
        }
      },
      "source": [
        "import pandas as pd\n",
        "import numpy as np\n",
        "df = pd.DataFrame({'A' : ['foo', 'bar', 'foo', 'bar',\n",
        "                          'foo', 'bar', 'foo', 'foo'],\n",
        "                   'B' : ['one', 'one', 'two', 'three',\n",
        "                          'two', 'two', 'one', 'three'],\n",
        "                   'C' : np.random.randn(8),\n",
        "                   'D' : np.random.randn(8)})\n",
        "#please type your code below this line.\n",
        "df1 = df.to_csv('csvFile.csv')\n",
        "print(df1)\n",
        " \n",
        "df2 = pd.read_csv('csvFile.csv')\n",
        "print(df2)\n",
        " \n",
        "df3 = df.to_excel('excelFile.xlsx')\n",
        "print(df3)\n",
        " \n",
        "df4 = pd.read_excel('excelFile.xlsx')\n",
        "print(df4)\n",
        "None"
      ],
      "execution_count": 2,
      "outputs": [
        {
          "output_type": "stream",
          "name": "stdout",
          "text": [
            "None\n",
            "   Unnamed: 0    A      B         C         D\n",
            "0           0  foo    one  0.048644 -0.729644\n",
            "1           1  bar    one -1.499755  0.218489\n",
            "2           2  foo    two -2.513269  0.260862\n",
            "3           3  bar  three  0.126991  0.355543\n",
            "4           4  foo    two -0.174751 -1.123264\n",
            "5           5  bar    two -0.966015  0.413427\n",
            "6           6  foo    one -0.560466  0.742506\n",
            "7           7  foo  three -0.528474 -0.405184\n",
            "None\n",
            "   Unnamed: 0    A      B         C         D\n",
            "0           0  foo    one  0.048644 -0.729644\n",
            "1           1  bar    one -1.499755  0.218489\n",
            "2           2  foo    two -2.513269  0.260862\n",
            "3           3  bar  three  0.126991  0.355543\n",
            "4           4  foo    two -0.174751 -1.123264\n",
            "5           5  bar    two -0.966015  0.413427\n",
            "6           6  foo    one -0.560466  0.742506\n",
            "7           7  foo  three -0.528474 -0.405184\n"
          ]
        }
      ]
    }
  ]
}