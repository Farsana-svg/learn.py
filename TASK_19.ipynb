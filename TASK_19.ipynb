{
  "nbformat": 4,
  "nbformat_minor": 0,
  "metadata": {
    "colab": {
      "name": "TASK 19.ipynb",
      "provenance": [],
      "include_colab_link": true
    },
    "kernelspec": {
      "name": "python3",
      "display_name": "Python 3"
    },
    "language_info": {
      "name": "python"
    }
  },
  "cells": [
    {
      "cell_type": "markdown",
      "metadata": {
        "id": "view-in-github",
        "colab_type": "text"
      },
      "source": [
        "<a href=\"https://colab.research.google.com/github/Farsana-svg/learn.py/blob/main/TASK_19.ipynb\" target=\"_parent\"><img src=\"https://colab.research.google.com/assets/colab-badge.svg\" alt=\"Open In Colab\"/></a>"
      ]
    },
    {
      "cell_type": "markdown",
      "metadata": {
        "id": "6J-6GvX2JUcC"
      },
      "source": [
        "1. Create a DataFrame by passing a random numpy array,with a dateted index and labelled columns and display,\n",
        "  - where values of the column A is greater than 0.\n",
        "  - where values of the columns A is greater than 0 and B greater than -1.\n",
        "  - where values of the columns A  is greater than 0 or B greater than -1.\n"
      ]
    },
    {
      "cell_type": "code",
      "metadata": {
        "id": "xX-5VikpLcHL",
        "outputId": "a4916137-05df-4ca2-e265-6f5096624162",
        "colab": {
          "base_uri": "https://localhost:8080/"
        }
      },
      "source": [
        "#please type your code below this line.\n",
        "import numpy as np\n",
        "import pandas as pd\n",
        " \n",
        "date = pd.date_range('2021-09-15',periods=4)\n",
        "df = pd.DataFrame(np.random.randn(4,2), index=date, columns=list('AB'))\n",
        "print(df)\n",
        " \n",
        "df1 = df['A']>0\n",
        "print(df1)\n",
        " \n",
        "df2 = df[(df.A > 0) & (df.B > -1)]\n",
        "print(df2)\n",
        " \n",
        "df3 = df[(df.A > 0) | (df.B > -1)]\n",
        "print(df3)"
      ],
      "execution_count": 2,
      "outputs": [
        {
          "output_type": "stream",
          "name": "stdout",
          "text": [
            "                   A         B\n",
            "2021-09-15 -1.170168  0.359710\n",
            "2021-09-16  0.623233 -0.374346\n",
            "2021-09-17 -1.860010 -0.011395\n",
            "2021-09-18  1.660315 -0.205049\n",
            "2021-09-15    False\n",
            "2021-09-16     True\n",
            "2021-09-17    False\n",
            "2021-09-18     True\n",
            "Freq: D, Name: A, dtype: bool\n",
            "                   A         B\n",
            "2021-09-16  0.623233 -0.374346\n",
            "2021-09-18  1.660315 -0.205049\n",
            "                   A         B\n",
            "2021-09-15 -1.170168  0.359710\n",
            "2021-09-16  0.623233 -0.374346\n",
            "2021-09-17 -1.860010 -0.011395\n",
            "2021-09-18  1.660315 -0.205049\n"
          ]
        }
      ]
    },
    {
      "cell_type": "markdown",
      "metadata": {
        "id": "1WAf9SbwLp6o"
      },
      "source": [
        "2. Create a DataFrame by passing a random numpy array,with a dateted index and labelled columns and check if ,\n",
        "  - the values of the table are greater the zero or not.\n",
        "  - the value at the postion (0,0) is equal to NaN or not."
      ]
    },
    {
      "cell_type": "code",
      "metadata": {
        "id": "rBrt8pMeM2Q5",
        "outputId": "d2605350-bce7-4c2a-8e14-4f12e6b26579",
        "colab": {
          "base_uri": "https://localhost:8080/"
        }
      },
      "source": [
        "#please type your code below this line.\n",
        "import numpy as np\n",
        "import pandas as pd\n",
        "from numpy import NaN\n",
        " \n",
        "print(df)\n",
        " \n",
        "print(\"1)\")\n",
        "df1 = df[df>0]\n",
        "print(df1)\n",
        " \n",
        "print(\"2)\")\n",
        "df2 = df.iloc[0,0]==NaN\n",
        "print(df2)"
      ],
      "execution_count": 3,
      "outputs": [
        {
          "output_type": "stream",
          "name": "stdout",
          "text": [
            "                   A         B\n",
            "2021-09-15 -1.170168  0.359710\n",
            "2021-09-16  0.623233 -0.374346\n",
            "2021-09-17 -1.860010 -0.011395\n",
            "2021-09-18  1.660315 -0.205049\n",
            "1)\n",
            "                   A        B\n",
            "2021-09-15       NaN  0.35971\n",
            "2021-09-16  0.623233      NaN\n",
            "2021-09-17       NaN      NaN\n",
            "2021-09-18  1.660315      NaN\n",
            "2)\n",
            "False\n"
          ]
        }
      ]
    },
    {
      "cell_type": "markdown",
      "metadata": {
        "id": "IfM9XYmiNaKB"
      },
      "source": [
        "3. Create a DataFrame by passing a random numpy array,with a dateted index and labelled columns and,\n",
        "  - reindex the index with even dates.\n",
        "  - create a column with values NaN.\n",
        "  - make the values of the first two index of the newly created column as 1"
      ]
    },
    {
      "cell_type": "code",
      "metadata": {
        "id": "F-w8kEfaORg3",
        "outputId": "32161cde-cdef-4bac-cd5a-a59ae74fb5ae",
        "colab": {
          "base_uri": "https://localhost:8080/"
        }
      },
      "source": [
        "#please type your answer below this line.import numpy as np\n",
        "import pandas as pd\n",
        "from numpy import NaN\n",
        " \n",
        "print(df)\n",
        " \n",
        "dates = ['2021-09-15','2021-09-17','2021-09-19','2021-09-21']\n",
        "df1 = df.reindex(index=dates)\n",
        "print(df1)\n",
        " \n",
        "list = ['A','B','C']\n",
        "df2 = df.reindex(list, axis = 'columns')\n",
        "print(df2)\n",
        " \n",
        "df3[\"C\"] = [\"1\",\"1\",\"NaN\",\"NaN\"]\n",
        "print(df3)"
      ],
      "execution_count": 5,
      "outputs": [
        {
          "output_type": "stream",
          "name": "stdout",
          "text": [
            "                   A         B\n",
            "2021-09-15 -1.170168  0.359710\n",
            "2021-09-16  0.623233 -0.374346\n",
            "2021-09-17 -1.860010 -0.011395\n",
            "2021-09-18  1.660315 -0.205049\n",
            "             A   B\n",
            "2021-09-15 NaN NaN\n",
            "2021-09-17 NaN NaN\n",
            "2021-09-19 NaN NaN\n",
            "2021-09-21 NaN NaN\n",
            "                   A         B   C\n",
            "2021-09-15 -1.170168  0.359710 NaN\n",
            "2021-09-16  0.623233 -0.374346 NaN\n",
            "2021-09-17 -1.860010 -0.011395 NaN\n",
            "2021-09-18  1.660315 -0.205049 NaN\n",
            "                   A         B    C\n",
            "2021-09-15 -1.170168  0.359710    1\n",
            "2021-09-16  0.623233 -0.374346    1\n",
            "2021-09-17 -1.860010 -0.011395  NaN\n",
            "2021-09-18  1.660315 -0.205049  NaN\n"
          ]
        }
      ]
    }
  ]
}