{
  "nbformat": 4,
  "nbformat_minor": 0,
  "metadata": {
    "colab": {
      "name": "TASK 18.ipynb",
      "provenance": [],
      "include_colab_link": true
    },
    "kernelspec": {
      "name": "python3",
      "display_name": "Python 3"
    },
    "language_info": {
      "name": "python"
    }
  },
  "cells": [
    {
      "cell_type": "markdown",
      "metadata": {
        "id": "view-in-github",
        "colab_type": "text"
      },
      "source": [
        "<a href=\"https://colab.research.google.com/github/Farsana-svg/learn.py/blob/main/TASK_18.ipynb\" target=\"_parent\"><img src=\"https://colab.research.google.com/assets/colab-badge.svg\" alt=\"Open In Colab\"/></a>"
      ]
    },
    {
      "cell_type": "markdown",
      "metadata": {
        "id": "_JgXT8pEAjU4"
      },
      "source": [
        "1. \n",
        "Create a DataFrame by passing a random numpy array,with a datetie index and labelled columns.and,\n",
        "    - slice its first three rows and display.\n",
        "    - slice its odd indexed rows.\n",
        "    - display the dates from 1st postion to 4 th position."
      ]
    },
    {
      "cell_type": "code",
      "metadata": {
        "id": "5zFM5VOJBKBV",
        "outputId": "75d44507-ad75-4317-e796-b50b90264584",
        "colab": {
          "base_uri": "https://localhost:8080/"
        }
      },
      "source": [
        "#please provide your answer below this line.\n",
        "import numpy as np\n",
        "import pandas as pd\n",
        "datetie = pd.date_range('2021-09-15',periods=6)\n",
        "df = pd.DataFrame(np.random.randn(6,6), index=datetie, columns=list('ABCDEF'))\n",
        "df1 = df.iloc[0:3]\n",
        "print(\"First 3 rows\")\n",
        "print(df1)\n",
        " \n",
        "df2 = df.iloc[0::2]\n",
        "print(\"Odd indexed rows\")\n",
        "print(df2)\n",
        " \n",
        "df3 = df.iloc[1:4,0:0]\n",
        "print(\"Dates from 1st position to 4th position\")\n",
        "print(df3)"
      ],
      "execution_count": 1,
      "outputs": [
        {
          "output_type": "stream",
          "name": "stdout",
          "text": [
            "First 3 rows\n",
            "                   A         B         C         D         E         F\n",
            "2021-09-15 -0.589216 -1.051402 -1.374272  0.113489 -0.861308 -0.633754\n",
            "2021-09-16 -2.064456  0.819630 -1.877448 -0.823848 -0.568067 -0.921474\n",
            "2021-09-17 -2.032760 -0.747577  3.155698 -0.387831  0.256917 -0.832043\n",
            "Odd indexed rows\n",
            "                   A         B         C         D         E         F\n",
            "2021-09-15 -0.589216 -1.051402 -1.374272  0.113489 -0.861308 -0.633754\n",
            "2021-09-17 -2.032760 -0.747577  3.155698 -0.387831  0.256917 -0.832043\n",
            "2021-09-19 -0.601583  0.241483  0.789118  0.466118  1.231564  0.553832\n",
            "Dates from 1st position to 4th position\n",
            "Empty DataFrame\n",
            "Columns: []\n",
            "Index: [2021-09-16 00:00:00, 2021-09-17 00:00:00, 2021-09-18 00:00:00]\n"
          ]
        }
      ]
    },
    {
      "cell_type": "markdown",
      "metadata": {
        "id": "QuoucvjxBPmX"
      },
      "source": [
        "2. Create a DataFrame by passing a random numpy array,with a datetie index and labelled columns.and\n",
        "  - Dislplay the index from the 1 to 3 date and the columns A and B of respective data.\n",
        "  - Display the datas at the 3rd index.\n",
        "  - Display datas from 2nd to 5th.\n",
        "  - Display the datas from the index 1,2,4 and the column 0 and 2."
      ]
    },
    {
      "cell_type": "code",
      "metadata": {
        "id": "qV_wzsp1DUKI",
        "outputId": "bfc700af-8394-4eb3-d6f6-db1f2848c1be",
        "colab": {
          "base_uri": "https://localhost:8080/"
        }
      },
      "source": [
        "#please provide your answer below thins line.\n",
        "df1 = df.loc[['2021-09-15','2021-09-16','2021-09-17'],['A','B']]\n",
        "print(df1)\n",
        " \n",
        "df2 = df.loc['2021-09-17']\n",
        "print(\"Datas at the 3rd index\")\n",
        "print(df2)\n",
        " \n",
        "df3 = df.loc[['2021-09-16','2021-09-17','2021-09-18','2021-09-19']]\n",
        "print(\"Datas from index 2nd to 5th\")\n",
        "print(df3)\n",
        " \n",
        "df4 = df.loc[['2021-09-15','2021-09-17','2021-09-18'],['A','C']]\n",
        "print(\"Datas from the index 1,2,4 and the column 0 and 2\")\n",
        "print(df4)"
      ],
      "execution_count": 4,
      "outputs": [
        {
          "output_type": "stream",
          "name": "stdout",
          "text": [
            "                   A         B\n",
            "2021-09-15 -0.589216 -1.051402\n",
            "2021-09-16 -2.064456  0.819630\n",
            "2021-09-17 -2.032760 -0.747577\n",
            "Datas at the 3rd index\n",
            "A   -2.032760\n",
            "B   -0.747577\n",
            "C    3.155698\n",
            "D   -0.387831\n",
            "E    0.256917\n",
            "F   -0.832043\n",
            "Name: 2021-09-17 00:00:00, dtype: float64\n",
            "Datas from index 2nd to 5th\n",
            "                   A         B         C         D         E         F\n",
            "2021-09-16 -2.064456  0.819630 -1.877448 -0.823848 -0.568067 -0.921474\n",
            "2021-09-17 -2.032760 -0.747577  3.155698 -0.387831  0.256917 -0.832043\n",
            "2021-09-18  0.063782  0.216442  0.258343  0.773793 -0.637539  0.931998\n",
            "2021-09-19 -0.601583  0.241483  0.789118  0.466118  1.231564  0.553832\n",
            "Datas from the index 1,2,4 and the column 0 and 2\n",
            "                   A         C\n",
            "2021-09-15 -0.589216 -1.374272\n",
            "2021-09-17 -2.032760  3.155698\n",
            "2021-09-18  0.063782  0.258343\n"
          ]
        }
      ]
    }
  ]
}