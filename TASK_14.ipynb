{
  "nbformat": 4,
  "nbformat_minor": 0,
  "metadata": {
    "colab": {
      "name": "TASK 14.ipynb",
      "provenance": [],
      "include_colab_link": true
    },
    "kernelspec": {
      "name": "python3",
      "display_name": "Python 3"
    },
    "language_info": {
      "name": "python"
    }
  },
  "cells": [
    {
      "cell_type": "markdown",
      "metadata": {
        "id": "view-in-github",
        "colab_type": "text"
      },
      "source": [
        "<a href=\"https://colab.research.google.com/github/Farsana-svg/learn.py/blob/main/TASK_14.ipynb\" target=\"_parent\"><img src=\"https://colab.research.google.com/assets/colab-badge.svg\" alt=\"Open In Colab\"/></a>"
      ]
    },
    {
      "cell_type": "markdown",
      "metadata": {
        "id": "pDx7KyZoXYNb"
      },
      "source": [
        "1. Create two arrays, one containing elements [1,2], [3,4] and another containing elements [8,18] Now find the solution for this linear equation."
      ]
    },
    {
      "cell_type": "code",
      "metadata": {
        "id": "1HQu2yB2YMbj",
        "outputId": "586cf24e-d131-485e-fb55-0229b34e1ad0",
        "colab": {
          "base_uri": "https://localhost:8080/"
        }
      },
      "source": [
        "#please type your answer below this line.\n",
        "import numpy as np\n",
        "x = np.array([[1,2],[3,4]])\n",
        " \n",
        "y = np.array([8,18])\n",
        " \n",
        "np.linalg.solve(x,y)"
      ],
      "execution_count": 1,
      "outputs": [
        {
          "output_type": "execute_result",
          "data": {
            "text/plain": [
              "array([2., 3.])"
            ]
          },
          "metadata": {},
          "execution_count": 1
        }
      ]
    },
    {
      "cell_type": "markdown",
      "metadata": {
        "id": "RyDr51p8ZxQp"
      },
      "source": [
        "2. Create an array containing elements [2, 3, 4]. Now find the sin,cos,tan values of this array elements."
      ]
    },
    {
      "cell_type": "code",
      "metadata": {
        "id": "iXZByHNOaXbk",
        "outputId": "e541966b-d1ad-4042-c47b-bbb3a93f79b6",
        "colab": {
          "base_uri": "https://localhost:8080/"
        }
      },
      "source": [
        "#please type your answer below this line.\n",
        "import numpy as np\n",
        "import math\n",
        "x = np.array([2,3,4])\n",
        " \n",
        "sinx= np.sin(x)\n",
        "print(sinx)\n",
        " \n",
        "cosx = np.cos(x)\n",
        "print(cosx)\n",
        " \n",
        "tanx = np.sin(x)/np.cos(x)\n",
        "print(tanx)"
      ],
      "execution_count": 3,
      "outputs": [
        {
          "output_type": "stream",
          "name": "stdout",
          "text": [
            "[ 0.90929743  0.14112001 -0.7568025 ]\n",
            "[-0.41614684 -0.9899925  -0.65364362]\n",
            "[-2.18503986 -0.14254654  1.15782128]\n"
          ]
        }
      ]
    },
    {
      "cell_type": "markdown",
      "metadata": {
        "id": "Itk2DMc6b60J"
      },
      "source": [
        "3. Given b=[5,6], then find,\n",
        "\n",
        "  a) 2sinb\n",
        "  b) 2cos3b\n",
        "  c) 4tan2b"
      ]
    },
    {
      "cell_type": "code",
      "metadata": {
        "id": "lgxpIaKebw5y",
        "outputId": "c5d5f303-fa06-48b2-aa9b-d6df02ca72ec",
        "colab": {
          "base_uri": "https://localhost:8080/"
        }
      },
      "source": [
        "#please type your answer below this line.\n",
        "import numpy as np\n",
        "import math\n",
        " \n",
        "b = np.array([5,6])\n",
        "print(\"2sinb\")\n",
        "x = np.sin(b)\n",
        "x1 = 2*x\n",
        "print(x1)\n",
        "print(\"2cos3b\")\n",
        "y = 3*b\n",
        "y1 = np.cos(y)\n",
        "y2 = 2*y1\n",
        "print(y2)\n",
        "print (\"4tan2b\")\n",
        "z = 2*b\n",
        "z1 = np.sin(z)/np.cos(z)\n",
        "z2 = 4*z1\n",
        "print(z2)"
      ],
      "execution_count": 11,
      "outputs": [
        {
          "output_type": "stream",
          "name": "stdout",
          "text": [
            "2sinb\n",
            "[-1.91784855 -0.558831  ]\n",
            "2cos3b\n",
            "[0.56732437 1.92034057]\n",
            "4tan2b\n",
            "[ 2.59344331 -2.54343971]\n"
          ]
        }
      ]
    }
  ]
}