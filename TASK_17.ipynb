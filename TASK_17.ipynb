{
  "nbformat": 4,
  "nbformat_minor": 0,
  "metadata": {
    "colab": {
      "name": "TASK 17.ipynb",
      "provenance": [],
      "include_colab_link": true
    },
    "kernelspec": {
      "name": "python3",
      "display_name": "Python 3"
    },
    "language_info": {
      "name": "python"
    }
  },
  "cells": [
    {
      "cell_type": "markdown",
      "metadata": {
        "id": "view-in-github",
        "colab_type": "text"
      },
      "source": [
        "<a href=\"https://colab.research.google.com/github/Farsana-svg/learn.py/blob/main/TASK_17.ipynb\" target=\"_parent\"><img src=\"https://colab.research.google.com/assets/colab-badge.svg\" alt=\"Open In Colab\"/></a>"
      ]
    },
    {
      "cell_type": "markdown",
      "metadata": {
        "id": "0SLapvpoaeYY"
      },
      "source": [
        "1. Create a DataFrame by passing a random numpy array,with a datetie index and labelled columns.and display its,\n",
        "     - Head\n",
        "     - Tail\n",
        "     - Index \n",
        "     - Columns\n",
        "     - Values\n",
        "     - statistics\n"
      ]
    },
    {
      "cell_type": "code",
      "metadata": {
        "id": "zJDkjyVxa5yU",
        "outputId": "5bf794ab-786f-4883-bb77-160db0237150",
        "colab": {
          "base_uri": "https://localhost:8080/"
        }
      },
      "source": [
        "#please type your answer below this line.\n",
        "import numpy as np\n",
        "import pandas as pd\n",
        " \n",
        "datetie = pd.date_range('2021-09-15',periods=6)\n",
        "df = pd.DataFrame(np.random.randn(6,4), index=datetie, columns=list('ABCD'))\n",
        "print(\"Head:\\n\", df.head())\n",
        " \n",
        "print(\"Tail:\\n\", df.tail())\n",
        " \n",
        "print(\"Index:\\n\", df.index)\n",
        " \n",
        "print(\"columns:\\n\", df.columns)\n",
        " \n",
        "print(\"Values:\\n\", df.values)\n",
        " \n",
        "print(\"Statistics:\\n\", df.describe(include='all'))"
      ],
      "execution_count": 2,
      "outputs": [
        {
          "output_type": "stream",
          "name": "stdout",
          "text": [
            "Head:\n",
            "                    A         B         C         D\n",
            "2021-09-15 -1.479163 -2.022224 -1.244538 -0.124270\n",
            "2021-09-16 -1.500914  0.494655  0.871823  0.318533\n",
            "2021-09-17 -0.275605 -1.511877 -1.834128 -1.227378\n",
            "2021-09-18  1.147341 -0.821400 -0.523557 -0.587409\n",
            "2021-09-19 -0.168874 -1.024968  1.003577  0.090285\n",
            "Tail:\n",
            "                    A         B         C         D\n",
            "2021-09-16 -1.500914  0.494655  0.871823  0.318533\n",
            "2021-09-17 -0.275605 -1.511877 -1.834128 -1.227378\n",
            "2021-09-18  1.147341 -0.821400 -0.523557 -0.587409\n",
            "2021-09-19 -0.168874 -1.024968  1.003577  0.090285\n",
            "2021-09-20 -0.732271  1.210658  0.645781 -0.879214\n",
            "Index:\n",
            " DatetimeIndex(['2021-09-15', '2021-09-16', '2021-09-17', '2021-09-18',\n",
            "               '2021-09-19', '2021-09-20'],\n",
            "              dtype='datetime64[ns]', freq='D')\n",
            "columns:\n",
            " Index(['A', 'B', 'C', 'D'], dtype='object')\n",
            "Values:\n",
            " [[-1.47916258 -2.02222405 -1.24453773 -0.12426984]\n",
            " [-1.50091447  0.49465468  0.87182269  0.31853295]\n",
            " [-0.27560495 -1.51187726 -1.83412823 -1.22737793]\n",
            " [ 1.14734087 -0.82140036 -0.5235573  -0.58740923]\n",
            " [-0.1688736  -1.02496796  1.00357738  0.09028507]\n",
            " [-0.73227142  1.21065755  0.64578114 -0.87921386]]\n",
            "Statistics:\n",
            "               A         B         C         D\n",
            "count  6.000000  6.000000  6.000000  6.000000\n",
            "mean  -0.501581 -0.612526 -0.180174 -0.401575\n",
            "std    0.988762  1.229607  1.198041  0.596993\n",
            "min   -1.500914 -2.022224 -1.834128 -1.227378\n",
            "25%   -1.292440 -1.390150 -1.064293 -0.806263\n",
            "50%   -0.503938 -0.923184  0.061112 -0.355840\n",
            "75%   -0.195556  0.165641  0.815312  0.036646\n",
            "max    1.147341  1.210658  1.003577  0.318533\n"
          ]
        }
      ]
    },
    {
      "cell_type": "markdown",
      "metadata": {
        "id": "xnkA2mKDdyoO"
      },
      "source": [
        "2. Use the above table and,\n",
        "      - find transpose of your data.\n",
        "      - sort the index in the descending order of the date."
      ]
    },
    {
      "cell_type": "code",
      "metadata": {
        "id": "uqcQSEOufJ5P",
        "outputId": "c9a155c4-6bd0-47eb-e0d8-8f9d3ad22873",
        "colab": {
          "base_uri": "https://localhost:8080/"
        }
      },
      "source": [
        "#please provide your answer below this line.\n",
        "print(\"Transpose\\n\", df.transpose())\n",
        "print(\"sorted in Descending order\\n\", df.sort_index(ascending=False))"
      ],
      "execution_count": 6,
      "outputs": [
        {
          "output_type": "stream",
          "name": "stdout",
          "text": [
            "Transpose\n",
            "    2021-09-15  2021-09-16  2021-09-17  2021-09-18  2021-09-19  2021-09-20\n",
            "A   -1.479163   -1.500914   -0.275605    1.147341   -0.168874   -0.732271\n",
            "B   -2.022224    0.494655   -1.511877   -0.821400   -1.024968    1.210658\n",
            "C   -1.244538    0.871823   -1.834128   -0.523557    1.003577    0.645781\n",
            "D   -0.124270    0.318533   -1.227378   -0.587409    0.090285   -0.879214\n",
            "sorted in Descending order\n",
            "                    A         B         C         D\n",
            "2021-09-20 -0.732271  1.210658  0.645781 -0.879214\n",
            "2021-09-19 -0.168874 -1.024968  1.003577  0.090285\n",
            "2021-09-18  1.147341 -0.821400 -0.523557 -0.587409\n",
            "2021-09-17 -0.275605 -1.511877 -1.834128 -1.227378\n",
            "2021-09-16 -1.500914  0.494655  0.871823  0.318533\n",
            "2021-09-15 -1.479163 -2.022224 -1.244538 -0.124270\n"
          ]
        }
      ]
    },
    {
      "cell_type": "markdown",
      "metadata": {
        "id": "ss7s_8iDbAcL"
      },
      "source": [
        ""
      ]
    }
  ]
}